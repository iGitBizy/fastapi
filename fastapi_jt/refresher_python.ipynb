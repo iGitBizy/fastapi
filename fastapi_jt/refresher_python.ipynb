{
 "cells": [
  {
   "cell_type": "code",
   "execution_count": 9,
   "id": "206a05c4",
   "metadata": {},
   "outputs": [
    {
     "name": "stdout",
     "output_type": "stream",
     "text": [
      "['lion', 'bear', 'giraffe', 'monkey']\n"
     ]
    }
   ],
   "source": [
    "zoo = ['tiger', 'lion', 'bear', 'elephant', 'giraffe']\n",
    "zoo.pop(3)\n",
    "zoo.append('monkey')\n",
    "zoo.pop(0)\n",
    "print(zoo)"
   ]
  },
  {
   "cell_type": "code",
   "execution_count": 15,
   "id": "558662c8",
   "metadata": {},
   "outputs": [
    {
     "name": "stdout",
     "output_type": "stream",
     "text": [
      "D\n",
      "your grade is 65\n"
     ]
    }
   ],
   "source": [
    "\"\"\" \n",
    "- Create a variable grade holding an integer between 0 - 100\n",
    "\n",
    "- Code if, elif, else statements to print the letter grade of the number grade variable\n",
    "\n",
    "Grades:\n",
    "\n",
    "A = 90 - 100\n",
    "B = 80 - 89\n",
    "C = 70-79\n",
    "D = 60 - 69\n",
    "F = 0 - 59\n",
    "\n",
    "Example:\n",
    "if grade = 87 then print('B')\n",
    "\"\"\"\n",
    "\n",
    "import random\n",
    "grade = random.randint(0,100)\n",
    "if grade >= 90:\n",
    "    print('A')\n",
    "elif (grade >= 80) and (grade < 90):\n",
    "    print('B')\n",
    "elif (grade >= 70) and (grade < 80):\n",
    "    print('C')\n",
    "elif (grade >= 60) and (grade < 70):\n",
    "    print('D')\n",
    "else:\n",
    "    print('F')\n",
    "\n",
    "print(f'your grade is {grade}') # this will print the random number generated"
   ]
  },
  {
   "cell_type": "code",
   "execution_count": 17,
   "id": "c6718658",
   "metadata": {},
   "outputs": [
    {
     "name": "stdout",
     "output_type": "stream",
     "text": [
      "Tuesday\n",
      "Wednesday\n",
      "Thursday\n",
      "Friday\n",
      "Tuesday\n",
      "Wednesday\n",
      "Thursday\n",
      "Friday\n",
      "Tuesday\n",
      "Wednesday\n",
      "Thursday\n",
      "Friday\n"
     ]
    }
   ],
   "source": [
    "\"\"\" \n",
    "Given: my_list = [\"Monday\", \"Tuesday\", \"Wednesday\", \"Thursday\", \"Friday\"]\n",
    "\n",
    "- Create a while loop that prints all elements of the my_list variable 3 times.\n",
    "\n",
    "- When printing the elements, use a for loop to print the elements\n",
    "\n",
    "- However, if the element of the for loop is equal to Monday, continue without printing\n",
    "\"\"\"\n",
    "\n",
    "my_list = [\"Monday\", \"Tuesday\", \"Wednesday\", \"Thursday\", \"Friday\"]\n",
    "\n",
    "count = 3\n",
    "while count > 0:\n",
    "    for day in my_list:\n",
    "        if day == \"Monday\":\n",
    "            continue\n",
    "        print(day)\n",
    "    count -= 1"
   ]
  },
  {
   "cell_type": "code",
   "execution_count": null,
   "id": "678c1520",
   "metadata": {},
   "outputs": [
    {
     "name": "stdout",
     "output_type": "stream",
     "text": [
      "model Ford\n",
      "make Explorer\n",
      "year 2018\n",
      "mileage 40000\n",
      "model\n",
      "make\n",
      "year\n",
      "number_of_tires\n"
     ]
    }
   ],
   "source": [
    "Based on the dictionary:\n",
    "\n",
    "my_vehicle = {\n",
    "    \"model\": \"Ford\",\n",
    "    \"make\": \"Explorer\",\n",
    "    \"year\": 2018,\n",
    "    \"mileage\": 40000\n",
    "}\n",
    "- Create a for loop to print all keys and values\n",
    "\n",
    "- Create a new variable vehicle2, which is a copy of my_vehicle\n",
    "\n",
    "- Add a new key 'number_of_tires' to the vehicle2 variable that is equal to 4\n",
    "\n",
    "- Delete the mileage key and value from vehicle2\n",
    "\n",
    "- Print just the keys from vehicle2\n",
    "\n",
    "my_vehicle = {\n",
    "    \"model\": \"Ford\",\n",
    "    \"make\": \"Explorer\",\n",
    "    \"year\": 2018,\n",
    "    \"mileage\": 40000\n",
    "}\n",
    "\n",
    "for key, value in my_vehicle.items():\n",
    "    print(f'{key} {value}')\n",
    "\n",
    "vehicle2 = my_vehicle.copy()\n",
    "\n",
    "vehicle2['number_of_tires'] = 4\n",
    "\n",
    "vehicle2.pop('mileage')\n",
    "\n",
    "for i in vehicle2:\n",
    "    print(i)    \n",
    "\n"
   ]
  },
  {
   "cell_type": "code",
   "execution_count": null,
   "id": "22cb836f",
   "metadata": {},
   "outputs": [
    {
     "name": "stdout",
     "output_type": "stream",
     "text": [
      "{'first_name': 'John', 'last_name': 'Doe', 'age': 30}\n"
     ]
    },
    {
     "data": {
      "text/plain": [
       "{'first_name': 'james', 'last_name': 'tiok', 'age': 29}"
      ]
     },
     "execution_count": 2,
     "metadata": {},
     "output_type": "execute_result"
    }
   ],
   "source": [
    "\"\"\" \n",
    "- Create a function that takes in 3 parameters(firstname, lastname, age) and\n",
    "\n",
    "returns a dictionary based on those values\n",
    "\"\"\"\n",
    "def user_dictionary(first_name, last_name, age):\n",
    "    dict = {\n",
    "        'first_name': first_name,\n",
    "        'last_name': last_name,\n",
    "        'age': age\n",
    "    }\n",
    "    return dict\n",
    "print(user_dictionary('John', 'Doe', 30))\n",
    "\n",
    "solution_dictionary = user_dictionary('james', 'tiok', 29)\n",
    "print(solution_dictionary)"
   ]
  },
  {
   "cell_type": "markdown",
   "id": "773e73b7",
   "metadata": {},
   "source": [
    "## Imports "
   ]
  },
  {
   "cell_type": "code",
   "execution_count": null,
   "id": "3ca5294a",
   "metadata": {},
   "outputs": [],
   "source": [
    "#importing funcitons from a diff python file into your application"
   ]
  },
  {
   "cell_type": "markdown",
   "id": "f75e8d7e",
   "metadata": {},
   "source": [
    "## OBJECT ORIENTED PROGRAMMING\n",
    " - scalability\n",
    " - efficiency\n",
    " - reusability\n",
    "\n",
    " ### 2 ways to define an object\n",
    "- behaviors (what an object does)\n",
    "    - bark, eat, sleep, run\n",
    "- states (what an object is)\n",
    "    - 4 legs, 2 ears, goldendoodle, etc \n",
    "\n",
    "### 4 Pillars of OOP\n",
    "- Encapsulation \n",
    "- Abstraction\n",
    "- Inheritance\n",
    "- Polymorphism\n",
    "\n",
    "### Create a game where enemies fight each other\n",
    "#### Criteria\n",
    "- Enenmies that can fight each other\n",
    "- different type of enemies\n",
    "    - zombie\n",
    "    - ogre\n",
    "- each enemy has diff powers, health points and attack damage\n",
    "\n",
    "#### implement using 4 pillars of oop\n",
    "\n",
    "- create enemy object\n",
    "    - name/ type \n",
    "    - health points\n",
    "    - attack damage"
   ]
  },
  {
   "cell_type": "code",
   "execution_count": null,
   "id": "6cabd29b",
   "metadata": {},
   "outputs": [],
   "source": [
    "## Constructors are \n",
    "def __init__(self):\n",
    "    pass            # define what we want to happen after we initilizae class\n",
    "\n",
    "# self refers to the object in the current class\n",
    "\n",
    "# super is used to refer to parent class of object"
   ]
  }
 ],
 "metadata": {
  "kernelspec": {
   "display_name": "Python (fastapienv)",
   "language": "python",
   "name": "fastapienv"
  },
  "language_info": {
   "codemirror_mode": {
    "name": "ipython",
    "version": 3
   },
   "file_extension": ".py",
   "mimetype": "text/x-python",
   "name": "python",
   "nbconvert_exporter": "python",
   "pygments_lexer": "ipython3",
   "version": "3.11.0"
  }
 },
 "nbformat": 4,
 "nbformat_minor": 5
}
